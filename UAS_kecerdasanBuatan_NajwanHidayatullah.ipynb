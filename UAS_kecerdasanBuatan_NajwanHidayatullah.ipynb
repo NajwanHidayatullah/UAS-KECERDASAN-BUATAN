# Implementasi Sistem Fuzzy untuk Pengaturan AC Otomatis (Metode Mamdani)
import numpy as np
import skfuzzy as fuzz
from skfuzzy import control as ctrl

# Definisi Variabel Input dan Output
suhu = ctrl.Antecedent(np.arange(0, 51, 1), 'suhu')  # Suhu dalam Celsius
kelembapan = ctrl.Antecedent(np.arange(0, 101, 1), 'kelembapan')  # Kelembapan dalam %
kecepatan_kipas = ctrl.Consequent(np.arange(0, 101, 1), 'kecepatan_kipas')  # Kecepatan kipas dalam %

# Himpunan Fuzzy untuk Suhu
suhu['rendah'] = fuzz.trapmf(suhu.universe, [0, 0, 15, 25])
suhu['tinggi'] = fuzz.trapmf(suhu.universe, [20, 30, 50, 50])

# Himpunan Fuzzy untuk Kelembapan
kelembapan['rendah'] = fuzz.trapmf(kelembapan.universe, [0, 0, 30, 50])
kelembapan['tinggi'] = fuzz.trapmf(kelembapan.universe, [40, 60, 100, 100])

# Himpunan Fuzzy untuk Kecepatan Kipas
kecepatan_kipas['lambat'] = fuzz.trapmf(kecepatan_kipas.universe, [0, 0, 30, 50])
kecepatan_kipas['cepat'] = fuzz.trapmf(kecepatan_kipas.universe, [40, 70, 100, 100])

# Aturan Fuzzy
rule1 = ctrl.Rule(suhu['rendah'] & kelembapan['rendah'], kecepatan_kipas['lambat'])
rule2 = ctrl.Rule(suhu['rendah'] & kelembapan['tinggi'], kecepatan_kipas['lambat'])
rule3 = ctrl.Rule(suhu['tinggi'] & kelembapan['rendah'], kecepatan_kipas['cepat'])
rule4 = ctrl.Rule(suhu['tinggi'] & kelembapan['tinggi'], kecepatan_kipas['cepat'])

# Sistem Kontrol Fuzzy
sistem_kontrol = ctrl.ControlSystem([rule1, rule2, rule3, rule4])
pengaturan_kipas = ctrl.ControlSystemSimulation(sistem_kontrol)

# Contoh Input
pengaturan_kipas.input['suhu'] = 35 # Suhu dalam Celsius (0-50°C)
pengaturan_kipas.input['kelembapan'] = 30  # Kelembapan dalam % (0-100%)

# Menjalankan Simulasi
pengaturan_kipas.compute()

# Output
print(f"Kecepatan Kipas: {pengaturan_kipas.output['kecepatan_kipas AC']:.2f}%")
