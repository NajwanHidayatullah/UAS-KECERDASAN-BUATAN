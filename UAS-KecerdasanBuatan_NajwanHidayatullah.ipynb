{
  "nbformat": 4,
  "nbformat_minor": 0,
  "metadata": {
    "colab": {
      "provenance": [],
      "authorship_tag": "ABX9TyOvpkb4sSsL+f1PyR64+Eo1",
      "include_colab_link": true
    },
    "kernelspec": {
      "name": "python3",
      "display_name": "Python 3"
    },
    "language_info": {
      "name": "python"
    }
  },
  "cells": [
    {
      "cell_type": "markdown",
      "metadata": {
        "id": "view-in-github",
        "colab_type": "text"
      },
      "source": [
        "<a href=\"https://colab.research.google.com/github/NajwanHidayatullah/UAS-KECERDASAN-BUATAN/blob/main/UAS-KecerdasanBuatan_NajwanHidayatullah.ipynb\" target=\"_parent\"><img src=\"https://colab.research.google.com/assets/colab-badge.svg\" alt=\"Open In Colab\"/></a>"
      ]
    },
    {
      "cell_type": "code",
      "execution_count": 47,
      "metadata": {
        "colab": {
          "base_uri": "https://localhost:8080/"
        },
        "id": "jpbAcQYBv62-",
        "outputId": "034e97e2-b810-46fc-c01f-29b4c020f8a6"
      },
      "outputs": [
        {
          "output_type": "stream",
          "name": "stdout",
          "text": [
            "Kecepatan Kipas: 22.59%\n"
          ]
        }
      ],
      "source": [
        "# Implementasi Sistem Fuzzy untuk Pengaturan AC Otomatis (Metode Mamdani)\n",
        "!pip install -U scikit-fuzzy\n",
        "import numpy as np\n",
        "import skfuzzy as fuzz\n",
        "from skfuzzy import control as ctrl\n",
        "\n",
        "# Definisi Variabel Input dan Output\n",
        "suhu = ctrl.Antecedent(np.arange(0, 51, 1), 'suhu')  # Suhu dalam Celsius\n",
        "kelembapan = ctrl.Antecedent(np.arange(0, 101, 1), 'kelembapan')  # Kelembapan dalam %\n",
        "kecepatan_kipas = ctrl.Consequent(np.arange(0, 101, 1), 'kecepatan_kipas')  # Kecepatan kipas dalam %\n",
        "\n",
        "# Himpunan Fuzzy untuk Suhu\n",
        "suhu['rendah'] = fuzz.trapmf(suhu.universe, [0, 0, 15, 25])\n",
        "suhu['tinggi'] = fuzz.trapmf(suhu.universe, [20, 30, 50, 50])\n",
        "\n",
        "# Himpunan Fuzzy untuk Kelembapan\n",
        "kelembapan['rendah'] = fuzz.trapmf(kelembapan.universe, [0, 0, 30, 50])\n",
        "kelembapan['tinggi'] = fuzz.trapmf(kelembapan.universe, [40, 60, 100, 100])\n",
        "\n",
        "# Himpunan Fuzzy untuk Kecepatan Kipas\n",
        "kecepatan_kipas['lambat'] = fuzz.trapmf(kecepatan_kipas.universe, [0, 0, 30, 50])\n",
        "kecepatan_kipas['cepat'] = fuzz.trapmf(kecepatan_kipas.universe, [40, 70, 100, 100])\n",
        "\n",
        "# Aturan Fuzzy\n",
        "rule1 = ctrl.Rule(suhu['rendah'] & kelembapan['rendah'], kecepatan_kipas['lambat'])\n",
        "rule2 = ctrl.Rule(suhu['rendah'] & kelembapan['tinggi'], kecepatan_kipas['lambat'])\n",
        "rule3 = ctrl.Rule(suhu['tinggi'] & kelembapan['rendah'], kecepatan_kipas['cepat'])\n",
        "rule4 = ctrl.Rule(suhu['tinggi'] & kelembapan['tinggi'], kecepatan_kipas['cepat'])\n",
        "\n",
        "# Sistem Kontrol Fuzzy\n",
        "sistem_kontrol = ctrl.ControlSystem([rule1, rule2, rule3, rule4])\n",
        "pengaturan_kipas = ctrl.ControlSystemSimulation(sistem_kontrol)\n",
        "\n",
        "# Contoh Input\n",
        "pengaturan_kipas.input['suhu'] = 36 # Suhu dalam Celsius (0-50°C)\n",
        "pengaturan_kipas.input['kelembapan'] = 20  # Kelembapan dalam % (0-100%)\n",
        "\n",
        "# Menjalankan Simulasi\n",
        "pengaturan_kipas.compute()\n",
        "\n",
        "# Output\n",
        "print(f\"Kecepatan Kipas: {pengaturan_kipas.output['kecepatan_kipas AC']:.2f}%\")\n"
      ]
    }
  ]
}
